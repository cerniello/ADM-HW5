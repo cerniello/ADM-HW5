{
 "cells": [
  {
   "cell_type": "markdown",
   "metadata": {},
   "source": [
    "# Homework 5 - Visit the Wikipedia hyperlinks graph!\n",
    "\n",
    "-  Amirhossein Rajabi Shizari\n",
    "-  Michael Aichmüller\n",
    "-  Michele Cernigliaro\n",
    "\n",
    "\n",
    "For this homework, all the tools are provided by the class *SnapGraph* in `Graph.py`"
   ]
  },
  {
   "cell_type": "code",
   "execution_count": 1,
   "metadata": {},
   "outputs": [],
   "source": [
    "from Graph import SnapGraph\n",
    "\n",
    "# allocating new SnapGraph object\n",
    "sg = SnapGraph()"
   ]
  },
  {
   "cell_type": "markdown",
   "metadata": {},
   "source": [
    "## [RQ1] Build the graph $G=(V, E)$, where V is the set of articles and E the hyperlinks among them, and provide its basic information:"
   ]
  },
  {
   "cell_type": "markdown",
   "metadata": {},
   "source": [
    "To answer this question, after we downloaded the data, we use the function *build_graph()*, which will provide:\n",
    "\n",
    "+ all the nodes (removing unconnected nodes), stored in a numpy array\n",
    "+ all the edges, stored into a pandas dataframe\n",
    "+ all the categories, into a dictionary (key: Category_i, value: [list_of_articles])\n",
    "+ node_degree of each article (number of edges incident to that article), stored into a dataframe\n",
    "+ the graph: A dictionary of dictionaries, which contains:\n",
    "    - keys : source articles\n",
    "    - values: dictionaries with a list of keys (destination articles pointed by the source one). Each value of the destination article is one (since the graph is not weighted)\n",
    "+ Plus, we created a 'reversed' graph. It has the same structure of the previous one with the only difference it referres to the destination articles. It will be used in the final part of the homework.\n",
    "\n",
    "As requested, in our analysis we took into account all the categories that has a number of articles greater than 3500."
   ]
  },
  {
   "cell_type": "code",
   "execution_count": 4,
   "metadata": {},
   "outputs": [
    {
     "name": "stderr",
     "output_type": "stream",
     "text": [
      "Processing categories: 100%|██████████| 17364/17364 [00:01<00:00, 13352.79it/s]\n",
      "Processing page names: 100%|██████████| 1791489/1791489 [00:01<00:00, 905034.35it/s]\n",
      "Building graph: 100%|██████████| 2645247/2645247 [03:01<00:00, 14590.20it/s]\n"
     ]
    }
   ],
   "source": [
    "sg.build_graph()"
   ]
  },
  {
   "cell_type": "code",
   "execution_count": 8,
   "metadata": {},
   "outputs": [
    {
     "data": {
      "text/plain": [
       "array([     52,      62,      64, ..., 1790187,  706468, 1790718])"
      ]
     },
     "execution_count": 8,
     "metadata": {},
     "output_type": "execute_result"
    }
   ],
   "source": [
    "# nodes \n",
    "sg.nodes"
   ]
  },
  {
   "cell_type": "code",
   "execution_count": 13,
   "metadata": {},
   "outputs": [
    {
     "data": {
      "text/html": [
       "<div>\n",
       "<style scoped>\n",
       "    .dataframe tbody tr th:only-of-type {\n",
       "        vertical-align: middle;\n",
       "    }\n",
       "\n",
       "    .dataframe tbody tr th {\n",
       "        vertical-align: top;\n",
       "    }\n",
       "\n",
       "    .dataframe thead th {\n",
       "        text-align: right;\n",
       "    }\n",
       "</style>\n",
       "<table border=\"1\" class=\"dataframe\">\n",
       "  <thead>\n",
       "    <tr style=\"text-align: right;\">\n",
       "      <th></th>\n",
       "      <th>v_start</th>\n",
       "      <th>v_end</th>\n",
       "    </tr>\n",
       "  </thead>\n",
       "  <tbody>\n",
       "    <tr>\n",
       "      <th>0</th>\n",
       "      <td>52</td>\n",
       "      <td>401135</td>\n",
       "    </tr>\n",
       "    <tr>\n",
       "      <th>1</th>\n",
       "      <td>52</td>\n",
       "      <td>1069112</td>\n",
       "    </tr>\n",
       "    <tr>\n",
       "      <th>2</th>\n",
       "      <td>52</td>\n",
       "      <td>1163551</td>\n",
       "    </tr>\n",
       "    <tr>\n",
       "      <th>3</th>\n",
       "      <td>62</td>\n",
       "      <td>12162</td>\n",
       "    </tr>\n",
       "    <tr>\n",
       "      <th>4</th>\n",
       "      <td>62</td>\n",
       "      <td>167659</td>\n",
       "    </tr>\n",
       "  </tbody>\n",
       "</table>\n",
       "</div>"
      ],
      "text/plain": [
       "   v_start    v_end\n",
       "0       52   401135\n",
       "1       52  1069112\n",
       "2       52  1163551\n",
       "3       62    12162\n",
       "4       62   167659"
      ]
     },
     "execution_count": 13,
     "metadata": {},
     "output_type": "execute_result"
    }
   ],
   "source": [
    "# the edges\n",
    "sg.edges.head()"
   ]
  },
  {
   "cell_type": "code",
   "execution_count": 42,
   "metadata": {},
   "outputs": [
    {
     "data": {
      "text/plain": [
       "[28411, 28961, 28979, 29264, 29573, 29582, 30896, 30900, 31902]"
      ]
     },
     "execution_count": 42,
     "metadata": {},
     "output_type": "execute_result"
    }
   ],
   "source": [
    "# a short representation of one category (first 10 articles)\n",
    "sg.categories['English_footballers'][1:10]"
   ]
  },
  {
   "cell_type": "code",
   "execution_count": 43,
   "metadata": {},
   "outputs": [
    {
     "data": {
      "text/html": [
       "<div>\n",
       "<style scoped>\n",
       "    .dataframe tbody tr th:only-of-type {\n",
       "        vertical-align: middle;\n",
       "    }\n",
       "\n",
       "    .dataframe tbody tr th {\n",
       "        vertical-align: top;\n",
       "    }\n",
       "\n",
       "    .dataframe thead th {\n",
       "        text-align: right;\n",
       "    }\n",
       "</style>\n",
       "<table border=\"1\" class=\"dataframe\">\n",
       "  <thead>\n",
       "    <tr style=\"text-align: right;\">\n",
       "      <th></th>\n",
       "      <th>0</th>\n",
       "    </tr>\n",
       "  </thead>\n",
       "  <tbody>\n",
       "    <tr>\n",
       "      <th>52</th>\n",
       "      <td>3</td>\n",
       "    </tr>\n",
       "    <tr>\n",
       "      <th>62</th>\n",
       "      <td>9</td>\n",
       "    </tr>\n",
       "    <tr>\n",
       "      <th>64</th>\n",
       "      <td>1</td>\n",
       "    </tr>\n",
       "  </tbody>\n",
       "</table>\n",
       "</div>"
      ],
      "text/plain": [
       "    0\n",
       "52  3\n",
       "62  9\n",
       "64  1"
      ]
     },
     "execution_count": 43,
     "metadata": {},
     "output_type": "execute_result"
    }
   ],
   "source": [
    "# node_degrees\n",
    "sg.node_degrees.head(3)"
   ]
  },
  {
   "cell_type": "code",
   "execution_count": 37,
   "metadata": {},
   "outputs": [
    {
     "name": "stdout",
     "output_type": "stream",
     "text": [
      " The number of nodes is: 461193\n",
      " The number of edges is: 2645247\n",
      " The average node degree is: 6\n"
     ]
    }
   ],
   "source": [
    "print(' The number of nodes is: %d\\n' %len(sg.nodes), \n",
    "      'The number of edges is: %d\\n' %len(sg.edges), \n",
    "      'The average node degree is: %d' %sg.avg_node_degree)"
   ]
  },
  {
   "cell_type": "markdown",
   "metadata": {},
   "source": [
    "#### Is the graph dense?"
   ]
  },
  {
   "cell_type": "markdown",
   "metadata": {},
   "source": [
    "## [RQ2] Given a category $C_0 = \\{article_1, article_2, \\dots, article_3\\}$ as input, build the $\\text{block}_\\text{ranking}$\n"
   ]
  },
  {
   "cell_type": "code",
   "execution_count": null,
   "metadata": {},
   "outputs": [],
   "source": []
  },
  {
   "cell_type": "code",
   "execution_count": null,
   "metadata": {},
   "outputs": [],
   "source": []
  }
 ],
 "metadata": {
  "kernelspec": {
   "display_name": "Python 3",
   "language": "python",
   "name": "python3"
  },
  "language_info": {
   "codemirror_mode": {
    "name": "ipython",
    "version": 3
   },
   "file_extension": ".py",
   "mimetype": "text/x-python",
   "name": "python",
   "nbconvert_exporter": "python",
   "pygments_lexer": "ipython3",
   "version": "3.6.5"
  }
 },
 "nbformat": 4,
 "nbformat_minor": 2
}
