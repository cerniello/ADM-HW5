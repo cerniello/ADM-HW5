{
 "cells": [
  {
   "cell_type": "code",
   "execution_count": 1,
   "metadata": {},
   "outputs": [],
   "source": [
    "import Graph\n",
    "import pandas as pd\n",
    "import numpy as np\n",
    "\n",
    "from tqdm import tqdm\n",
    "from queue import Queue\n"
   ]
  },
  {
   "cell_type": "code",
   "execution_count": 2,
   "metadata": {},
   "outputs": [
    {
     "name": "stderr",
     "output_type": "stream",
     "text": [
      "Processing categories: 100%|██████████| 17364/17364 [00:01<00:00, 13465.80it/s]\n",
      "Processing page names: 100%|██████████| 1791489/1791489 [00:01<00:00, 985037.66it/s] \n",
      "Building graph: 100%|██████████| 2645247/2645247 [02:49<00:00, 15579.68it/s]\n"
     ]
    }
   ],
   "source": [
    "sg = Graph.SnapGraph()\n",
    "sg.build_graph()"
   ]
  },
  {
   "cell_type": "code",
   "execution_count": 36,
   "metadata": {},
   "outputs": [],
   "source": [
    "\n",
    "# init node dicts \n",
    "visited = {}    # visited = True/False\n",
    "parent = {}     # parent of the node\n",
    "distance = {}   # distance from C0\n",
    "\n",
    "# init the dict for each node in self.nodes\n",
    "for v in sg.nodes:\n",
    "    visited[v] = False\n",
    "    parent[v] = None\n",
    "    distance[v] = float('inf')"
   ]
  },
  {
   "cell_type": "markdown",
   "metadata": {},
   "source": [
    "## trying bfs with inp_category = English_footballers"
   ]
  },
  {
   "cell_type": "code",
   "execution_count": 4,
   "metadata": {},
   "outputs": [],
   "source": [
    "inp_category = 'English_footballers' # example of input category"
   ]
  },
  {
   "cell_type": "code",
   "execution_count": 38,
   "metadata": {},
   "outputs": [
    {
     "name": "stderr",
     "output_type": "stream",
     "text": [
      "100%|██████████| 9237/9237 [00:49<00:00, 187.36it/s] \n"
     ]
    }
   ],
   "source": [
    "# bfs algo\n",
    "pbar = tqdm(sg.categories[inp_category])\n",
    "\n",
    "# for each node in sg.categories[inp_category]\n",
    "for v in pbar:\n",
    "    # create a queue\n",
    "    Q = Queue()\n",
    "    \n",
    "    # put the node in the queue\n",
    "    # each C0 node has 0 as distance!\n",
    "    Q.put(v)\n",
    "    visited[v] = True\n",
    "    dist = 0\n",
    "    distance[v] = dist\n",
    "    \n",
    "    # if the queue is not empty\n",
    "    while not Q.empty():\n",
    "        # pick the next node\n",
    "        u = Q.get()\n",
    "        # increase the distance\n",
    "        dist += 1\n",
    "        # for each out_edge of u\n",
    "        for z in sg.graph[u].keys():\n",
    "            \n",
    "            # if it's not visited update the values\n",
    "            if not visited[z]:\n",
    "                Q.put(z)\n",
    "                visited[z] = True\n",
    "                parent[z] = u\n",
    "                distance[z] = dist\n",
    "            else:\n",
    "                # if the distance from the new c0 node\n",
    "                # is less than the previous one\n",
    "                # update the distance and the parent\n",
    "                if distance[z] > dist:\n",
    "                    Q.put(z)\n",
    "                    parent[z] = u\n",
    "                    distance[z] = dist\n"
   ]
  },
  {
   "cell_type": "code",
   "execution_count": 84,
   "metadata": {},
   "outputs": [
    {
     "name": "stderr",
     "output_type": "stream",
     "text": [
      "100%|██████████| 35/35 [04:19<00:00,  2.52s/it]\n"
     ]
    }
   ],
   "source": [
    "# building block_ranking\n",
    "# putting C0 as first element\n",
    "rank = [inp_category, 0]\n",
    "block_ranking = [tuple(rank)]\n",
    "\n",
    "\n",
    "pbar = tqdm(sg.categories.keys())\n",
    "# for each category\n",
    "for key in pbar:\n",
    "    # don't consider C0\n",
    "    if key == inp_category:\n",
    "        continue\n",
    "    \n",
    "    Ci_nodes = sg.categories[key] # take nodes of Ci\n",
    "    Ci_distances = []             # Ci_distancies\n",
    "\n",
    "    # for each node in Ci_category\n",
    "    for node in Ci_nodes:\n",
    "        # if the node has edges and it's visited\n",
    "        if node in sg.nodes and visited[node]:\n",
    "            # append its distance to the list of distancies\n",
    "            Ci_distances.append(distance[node])\n",
    "\n",
    "    # not consider articles in common with C0\n",
    "    Ci_distances = [node for node in Ci_distances if node != 0]\n",
    "\n",
    "    # make new rank and append it to block_ranking\n",
    "    rank = [key, np.median(Ci_distances)]\n",
    "    block_ranking.append(tuple(rank))\n",
    "\n",
    "\n"
   ]
  },
  {
   "cell_type": "code",
   "execution_count": 85,
   "metadata": {},
   "outputs": [
    {
     "data": {
      "text/plain": [
       "[('English_footballers', 0),\n",
       " ('The_Football_League_players', 1.0),\n",
       " ('Association_football_forwards', 5.0),\n",
       " ('Association_football_goalkeepers', 6.0),\n",
       " ('Association_football_midfielders', 7.0),\n",
       " ('Association_football_defenders', 7.0),\n",
       " ('English_cricketers', 8.0),\n",
       " ('Article_Feedback_Pilot', 12.0),\n",
       " ('English_television_actors', 17.0),\n",
       " ('British_films', 30.0),\n",
       " ('English-language_films', 33.0),\n",
       " ('American_Jews', 34.0),\n",
       " ('Members_of_the_United_Kingdom_Parliament_for_English_constituencies', 38.0),\n",
       " ('American_television_actors', 39.0),\n",
       " ('American_film_actors', 41.0),\n",
       " ('People_from_New_York_City', 46.0),\n",
       " ('Fellows_of_the_Royal_Society', 47.0),\n",
       " ('American_films', 51.0),\n",
       " ('American_military_personnel_of_World_War_II', 59.0),\n",
       " ('Living_people', 74.0),\n",
       " ('Harvard_University_alumni', 81.0),\n",
       " ('English-language_albums', 85.0),\n",
       " ('Place_of_birth_missing_(living_people)', 86.0),\n",
       " ('Major_League_Baseball_pitchers', 91.0),\n",
       " ('Black-and-white_films', 98.0),\n",
       " ('Debut_albums', 111.0),\n",
       " ('Year_of_birth_missing_(living_people)', 113.0),\n",
       " ('Year_of_death_missing', 124.0),\n",
       " ('Indian_films', 130.0),\n",
       " ('Year_of_birth_unknown', 131.0),\n",
       " ('Windows_games', 138.0),\n",
       " ('Year_of_birth_missing', 154.0),\n",
       " ('Asteroids_named_for_people', 335.0),\n",
       " ('Main_Belt_asteroids', 380.0),\n",
       " ('Rivers_of_Romania', 579.0)]"
      ]
     },
     "execution_count": 85,
     "metadata": {},
     "output_type": "execute_result"
    }
   ],
   "source": [
    "block_ranking.sort(key=lambda x: x[1])\n",
    "block_ranking"
   ]
  },
  {
   "cell_type": "code",
   "execution_count": null,
   "metadata": {},
   "outputs": [],
   "source": []
  }
 ],
 "metadata": {
  "kernelspec": {
   "display_name": "Python 3",
   "language": "python",
   "name": "python3"
  },
  "language_info": {
   "codemirror_mode": {
    "name": "ipython",
    "version": 3
   },
   "file_extension": ".py",
   "mimetype": "text/x-python",
   "name": "python",
   "nbconvert_exporter": "python",
   "pygments_lexer": "ipython3",
   "version": "3.6.5"
  }
 },
 "nbformat": 4,
 "nbformat_minor": 2
}
